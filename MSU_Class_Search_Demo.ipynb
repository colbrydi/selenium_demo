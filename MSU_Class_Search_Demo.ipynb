{
 "cells": [
  {
   "cell_type": "markdown",
   "id": "33c77785-63c6-443f-9f37-4b1c02765a4f",
   "metadata": {},
   "source": [
    "# Selenium Example Notebook\n",
    "\n",
    "\n",
    "### Step 1: Set up Selium Driver"
   ]
  },
  {
   "cell_type": "code",
   "execution_count": null,
   "id": "5972cdc5-9516-4e0c-8cf5-4e38e9ecedd8",
   "metadata": {
    "tags": []
   },
   "outputs": [],
   "source": [
    "#Load selinimum and automatically install the Chrome Driver\n",
    "from selenium import webdriver\n",
    "from selenium.webdriver.chrome.options import Options\n",
    "from webdriver_manager.chrome import ChromeDriverManager\n",
    "import time\n",
    "\n",
    "install_path = ChromeDriverManager().install()\n",
    "install_path"
   ]
  },
  {
   "cell_type": "code",
   "execution_count": null,
   "id": "a81692c1-feb5-472b-9759-4a8834608e99",
   "metadata": {
    "tags": []
   },
   "outputs": [],
   "source": [
    "#Setup Chrome driver \n",
    "options = Options()\n",
    "#options.add_argument('--headless')\n",
    "driver = webdriver.Chrome(executable_path=install_path)\n",
    "time.sleep(10)"
   ]
  },
  {
   "cell_type": "markdown",
   "id": "966bd63f-3db7-49f6-885e-8c30a1cc97b2",
   "metadata": {},
   "source": [
    "### Step 2: Call the main Course website for MSU "
   ]
  },
  {
   "cell_type": "code",
   "execution_count": null,
   "id": "427ea647-548e-4fb5-8769-99b3814fe2d5",
   "metadata": {
    "tags": []
   },
   "outputs": [],
   "source": [
    "from bs4 import BeautifulSoup\n",
    "\n",
    "url = \"https://student.msu.edu/psc/public/EMPLOYEE/SA/c/NUI_FRAMEWORK.PT_AGSTARTPAGE_NUI.GBL?CONTEXTIDPARAMS=TEMPLATE_ID%3aPTPPNAVCOL&scname=MSU_AA_SCHEDULE_NEW0&PanelCollapsible=Y\"\n",
    "driver.get(url)\n",
    "time.sleep(20)"
   ]
  },
  {
   "cell_type": "markdown",
   "id": "6b29053e-14a0-42bc-b175-34c183d52875",
   "metadata": {
    "tags": []
   },
   "source": [
    "<a class=\"ps-link\" href=\"\" id=\"SSR_CSTRMPRV_VW_DESCR$3\" onclick=\"javascript:cancelBubble(event);\" ptlinktgt=\"pt_peoplecode\" tabindex=\"-1\">"
   ]
  },
  {
   "cell_type": "markdown",
   "id": "dd5507ee-9752-46f9-b4fd-dbaa18ba253e",
   "metadata": {
    "tags": []
   },
   "source": [
    "<a class=\"ps-link\" href=\"\" id=\"SSR_CSTRMPRV_VW_DESCR$3\" onclick=\"javascript:cancelBubble(event);\" ptlinktgt=\"pt_peoplecode\" tabindex=\"-1\">"
   ]
  },
  {
   "cell_type": "markdown",
   "id": "28a7068f-29da-4372-bdea-4404f5a4a9fc",
   "metadata": {
    "tags": []
   },
   "source": [
    "<a class=\"ps-link\" href=\"\" id=\"SSR_CSTRMPRV_VW_DESCR$3\" onclick=\"javascript:cancelBubble(event);\" ptlinktgt=\"pt_peoplecode\" tabindex=\"-1\">"
   ]
  },
  {
   "cell_type": "markdown",
   "id": "8bd428be-fa9d-4388-94bc-4bbd98c5ccfa",
   "metadata": {},
   "source": [
    "### Step 3: Pick a semester\n",
    "\n",
    "In this example you can try the previous, current or next"
   ]
  },
  {
   "cell_type": "code",
   "execution_count": null,
   "id": "a03c2bfe-6447-49f7-9249-10d0e27f6150",
   "metadata": {
    "tags": []
   },
   "outputs": [],
   "source": [
    "Semester = {'Previous': \"'SSR_CSTRMPRV_VW_DESCR$0'\",\n",
    "            'Current': \"'SSR_CSTRMCUR_VW_DESCR$0'\", \n",
    "            'Next' : \"'SSR_CSTRMCUR_VW_DESCR$1'\"}\n",
    "\n",
    "Semester['Current']\n",
    "            \n",
    "url = f\"javascript:submitAction_win0(document.win0,{Semester['Current']});\""
   ]
  },
  {
   "cell_type": "code",
   "execution_count": null,
   "id": "b2a3e45c-8c52-44c3-b7d3-dd8e9168a595",
   "metadata": {
    "tags": []
   },
   "outputs": [],
   "source": [
    "#url = \"javascript:submitAction_win0(document.win0,'SSR_CSTRMPRV_VW_DESCR$3');\"\n",
    "driver.execute_script(url);\n",
    "time.sleep(30)"
   ]
  },
  {
   "cell_type": "markdown",
   "id": "569e0560-b273-4c63-bcfa-7dc94991477a",
   "metadata": {},
   "source": [
    "#### Step 4: Type in a form value to the Subject element (I had to find the name) and then hit submit!"
   ]
  },
  {
   "cell_type": "code",
   "execution_count": null,
   "id": "410d2fed-b698-45a5-95b4-09c2f04f591b",
   "metadata": {
    "tags": []
   },
   "outputs": [],
   "source": [
    "from selenium.webdriver.common.by import By\n",
    "element = driver.find_element(By.ID, 'MSU_CLSRCH_WRK2_SUBJECT')  \n",
    "element.send_keys(\"CMSE\");\n",
    "# element.get_property('value')"
   ]
  },
  {
   "cell_type": "code",
   "execution_count": null,
   "id": "3ba1d082-9016-4ea2-b23e-3150b68a5341",
   "metadata": {
    "tags": []
   },
   "outputs": [],
   "source": [
    "url = f\"javascript:submitAction_win0(document.win0,'MSU_CLSRCH_WRK_SSR_PB_SEARCH');\"\n",
    "driver.execute_script(url);\n",
    "time.sleep(20)"
   ]
  },
  {
   "cell_type": "code",
   "execution_count": null,
   "id": "dbc503e0-61ba-45a5-a038-2612d88825b5",
   "metadata": {
    "tags": []
   },
   "outputs": [],
   "source": [
    "body = driver.page_source\n",
    "soup = BeautifulSoup(body, 'html.parser')\n",
    "soup"
   ]
  },
  {
   "cell_type": "markdown",
   "id": "c0e8323d-3275-4bc9-a60c-a0f4d2c5664f",
   "metadata": {},
   "source": [
    "# Other Userful Commands"
   ]
  },
  {
   "cell_type": "code",
   "execution_count": null,
   "id": "f019b58d-4f96-47ac-81d2-ed32f4976ac9",
   "metadata": {
    "tags": []
   },
   "outputs": [],
   "source": [
    "#departments = element.text.split('\\n')"
   ]
  },
  {
   "cell_type": "code",
   "execution_count": null,
   "id": "03f4a3c9-cfb3-48da-af6e-ec029aec0054",
   "metadata": {},
   "outputs": [],
   "source": []
  }
 ],
 "metadata": {
  "kernelspec": {
   "display_name": "Python 3 (ipykernel)",
   "language": "python",
   "name": "python3"
  },
  "language_info": {
   "codemirror_mode": {
    "name": "ipython",
    "version": 3
   },
   "file_extension": ".py",
   "mimetype": "text/x-python",
   "name": "python",
   "nbconvert_exporter": "python",
   "pygments_lexer": "ipython3",
   "version": "3.11.3"
  }
 },
 "nbformat": 4,
 "nbformat_minor": 5
}
