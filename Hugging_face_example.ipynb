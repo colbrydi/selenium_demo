{
 "cells": [
  {
   "cell_type": "markdown",
   "id": "33c77785-63c6-443f-9f37-4b1c02765a4f",
   "metadata": {},
   "source": [
    "# Selenium Example Notebook\n",
    "\n",
    "This example is scrapping hugging-face website.\n",
    "\n",
    "### Step 1: Set up Selium Driver"
   ]
  },
  {
   "cell_type": "code",
   "execution_count": null,
   "id": "5972cdc5-9516-4e0c-8cf5-4e38e9ecedd8",
   "metadata": {
    "tags": []
   },
   "outputs": [],
   "source": [
    "#Load selinimum and automatically install the Chrome Driver\n",
    "from selenium import webdriver\n",
    "from selenium.webdriver.chrome.options import Options\n",
    "from webdriver_manager.chrome import ChromeDriverManager\n",
    "import time\n",
    "\n",
    "install_path = ChromeDriverManager().install()\n",
    "install_path"
   ]
  },
  {
   "cell_type": "code",
   "execution_count": null,
   "id": "a81692c1-feb5-472b-9759-4a8834608e99",
   "metadata": {
    "tags": []
   },
   "outputs": [],
   "source": [
    "#Setup Chrome driver \n",
    "options = Options()\n",
    "#options.add_argument('--headless')\n",
    "driver = webdriver.Chrome(executable_path=install_path)\n",
    "time.sleep(10)"
   ]
  },
  {
   "cell_type": "markdown",
   "id": "966bd63f-3db7-49f6-885e-8c30a1cc97b2",
   "metadata": {},
   "source": [
    "### Step 2: Call the main Course website for MSU "
   ]
  },
  {
   "cell_type": "code",
   "execution_count": null,
   "id": "dbc503e0-61ba-45a5-a038-2612d88825b5",
   "metadata": {
    "tags": []
   },
   "outputs": [],
   "source": [
    "from bs4 import BeautifulSoup\n",
    "\n",
    "nummodels = 10\n",
    "page = 0;\n",
    "models = set()\n",
    "while nummodels > 0:\n",
    "    print(f\"Parcing page {page}\")\n",
    "    url = f\"https://huggingface.co/models?pipeline_tag=image-segmentation&p={page}&sort=downloads\"\n",
    "    driver.get(url)\n",
    "    time.sleep(5)\n",
    "    body = driver.page_source\n",
    "    soup = BeautifulSoup(body, 'html.parser')\n",
    "    h4s= soup.find_all('h4')\n",
    "\n",
    "    for h4 in h4s:\n",
    "        models.add(h4.get_text())\n",
    "\n",
    "    nummodels = len(h4s)\n",
    "    page = page + 1\n",
    "models"
   ]
  },
  {
   "cell_type": "code",
   "execution_count": null,
   "id": "79879a9c-156b-40a0-a4e5-42e9e2523ce4",
   "metadata": {
    "tags": []
   },
   "outputs": [],
   "source": [
    "len(models)\n"
   ]
  },
  {
   "cell_type": "code",
   "execution_count": null,
   "id": "edfedb0c-d763-489c-8423-733ec1d01580",
   "metadata": {},
   "outputs": [],
   "source": []
  }
 ],
 "metadata": {
  "kernelspec": {
   "display_name": "Python 3 (ipykernel)",
   "language": "python",
   "name": "python3"
  },
  "language_info": {
   "codemirror_mode": {
    "name": "ipython",
    "version": 3
   },
   "file_extension": ".py",
   "mimetype": "text/x-python",
   "name": "python",
   "nbconvert_exporter": "python",
   "pygments_lexer": "ipython3",
   "version": "3.11.3"
  }
 },
 "nbformat": 4,
 "nbformat_minor": 5
}
